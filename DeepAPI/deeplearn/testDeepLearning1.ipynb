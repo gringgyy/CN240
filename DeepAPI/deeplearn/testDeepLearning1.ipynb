{
 "cells": [
  {
   "cell_type": "code",
   "execution_count": 3,
   "id": "f63f7f65-b1f1-47df-adc6-a7d070f7b338",
   "metadata": {},
   "outputs": [],
   "source": [
    "from keras.models import load_model\n",
    "import cv2\n",
    "import numpy as np\n",
    "from glob import glob"
   ]
  },
  {
   "cell_type": "code",
   "execution_count": 8,
   "id": "029ac808-a76c-469d-aa0f-a08a4ae38ad3",
   "metadata": {},
   "outputs": [
    {
     "name": "stdout",
     "output_type": "stream",
     "text": [
      "WARNING:tensorflow:5 out of the last 5 calls to <function Model.make_predict_function.<locals>.predict_function at 0x000002338D240700> triggered tf.function retracing. Tracing is expensive and the excessive number of tracings could be due to (1) creating @tf.function repeatedly in a loop, (2) passing tensors with different shapes, (3) passing Python objects instead of tensors. For (1), please define your @tf.function outside of the loop. For (2), @tf.function has experimental_relax_shapes=True option that relaxes argument shapes that can avoid unnecessary retracing. For (3), please refer to https://www.tensorflow.org/tutorials/customization/performance#python_or_tensor_args and https://www.tensorflow.org/api_docs/python/tf/function for  more details.\n",
      "2\n"
     ]
    }
   ],
   "source": [
    "# load model\n",
    "model = load_model('deeplearningVGG16.h5')\n",
    "#model.compile(optimizer='adam', loss='binary_crossentropy', metrics=['accuracy'])\n",
    "# summarize model.\n",
    "#model.summary()\n",
    "# load dataset\n",
    "img = cv2.imread(\"05.jpg\")\n",
    "#imgs = sorted(glob(\"dataset/test/normal/*.jpg\"))\n",
    "# split into input (X) and output (Y) variables\n",
    "img = cv2.resize(img,(224,224))\n",
    "img = np.reshape(img,[1,224,224,3])\n",
    "classes = model.predict_proba(img)\n",
    "classes = np.argmax(classes)\n",
    "\n",
    "#i=0\n",
    "#while(i<len(imgs)):\n",
    "   # img = cv2.imread(imgs[i])\n",
    "    #img = cv2.resize(img,(224,224))\n",
    "    #img = np.reshape(img,[1,224,224,3])\n",
    "    #classes = model.predict_proba(img)\n",
    "    #classes = np.argmax(classes)\n",
    "\n",
    "print(classes)"
   ]
  },
  {
   "cell_type": "code",
   "execution_count": null,
   "id": "e7810b52-1abf-4d28-9fb2-bee42b471160",
   "metadata": {},
   "outputs": [],
   "source": []
  }
 ],
 "metadata": {
  "kernelspec": {
   "display_name": "Python 3",
   "language": "python",
   "name": "python3"
  },
  "language_info": {
   "codemirror_mode": {
    "name": "ipython",
    "version": 3
   },
   "file_extension": ".py",
   "mimetype": "text/x-python",
   "name": "python",
   "nbconvert_exporter": "python",
   "pygments_lexer": "ipython3",
   "version": "3.8.5"
  }
 },
 "nbformat": 4,
 "nbformat_minor": 5
}
