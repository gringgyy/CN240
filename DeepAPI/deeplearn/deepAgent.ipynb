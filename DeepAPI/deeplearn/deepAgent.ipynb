{
 "metadata": {
  "language_info": {
   "codemirror_mode": {
    "name": "ipython",
    "version": 3
   },
   "file_extension": ".py",
   "mimetype": "text/x-python",
   "name": "python",
   "nbconvert_exporter": "python",
   "pygments_lexer": "ipython3",
   "version": "3.9.5"
  },
  "orig_nbformat": 2,
  "kernelspec": {
   "name": "python395jvsc74a57bd04ab028e18c8a2354d5470d12cc8991ba8958a4dd8e4cc282fa1cd3a28cb9dc6c",
   "display_name": "Python 3.9.5 64-bit"
  }
 },
 "nbformat": 4,
 "nbformat_minor": 2,
 "cells": [
  {
   "cell_type": "code",
   "execution_count": 1,
   "metadata": {},
   "outputs": [],
   "source": [
    "import tensorflow as tf\n",
    "import numpy as np"
   ]
  },
  {
   "cell_type": "code",
   "execution_count": null,
   "metadata": {},
   "outputs": [],
   "source": [
    "path_train = \"/train\"\n",
    "path_test = \"/test\"\n",
    "\n",
    "img_train = tf.keras.preprocessing.img_dataset_from_directory(\n",
    "    path_train,\n",
    "    validation_split=0.2,\n",
    "    subset = \"training\",\n",
    "    seed = 125,\n",
    "    image_size = (224,224),\n",
    "    batch_size = 32\n",
    ")\n",
    "\n",
    "img_validation = tf.keras.preprocessing.img_dataset_from_directory(\n",
    "    path_train,\n",
    "    validation_split=0.2,\n",
    "    subset = \"validation\",\n",
    "    seed = 125,\n",
    "    image_size = (224,224),\n",
    "    batch_size = 32\n",
    ")\n"
   ]
  },
  {
   "cell_type": "code",
   "execution_count": null,
   "metadata": {},
   "outputs": [],
   "source": [
    "VGG16_MODEL=tf.keras.applications.VGG16(input_shape=(224,224,3),\n",
    "                                               include_top=False,\n",
    "                                               weights='imagenet')\n",
    "VGG16_MODEL.trainable=False\n",
    "global_average_layer = tf.keras.layers.GlobalAveragePooling2D()\n",
    "prediction_layer = tf.keras.layers.Dense(3,activation='softmax')"
   ]
  },
  {
   "cell_type": "code",
   "execution_count": null,
   "metadata": {},
   "outputs": [],
   "source": [
    "model = tf.keras.Sequential([\n",
    "  VGG16_MODEL,\n",
    "  global_average_layer,\n",
    "  prediction_layer\n",
    "])\n",
    "\n",
    "model.compile(optimizer=\"adam\", \n",
    "              loss=tf.keras.losses.sparse_categorical_crossentropy,\n",
    "              metrics=[\"accuracy\"])"
   ]
  },
  {
   "cell_type": "code",
   "execution_count": null,
   "metadata": {},
   "outputs": [],
   "source": [
    "model.summary()"
   ]
  },
  {
   "cell_type": "code",
   "execution_count": null,
   "metadata": {},
   "outputs": [],
   "source": [
    "history = model.fit(img_train,\n",
    "                    epochs=20, \n",
    "                    steps_per_epoch=2,\n",
    "                    validation_steps=2,\n",
    "                    validation_data=img_validation)\n",
    "model.save(\"deeplearningVGG16.h5\")"
   ]
  },
  {
   "cell_type": "code",
   "execution_count": null,
   "metadata": {},
   "outputs": [],
   "source": [
    "img_test = tf.keras.preprocessing.image_dataset_from_directory(\n",
    "    path_test,\n",
    "    image_size = (224,224)\n",
    ")\n",
    "\n",
    "label = [\"glaucoma\",\"normal\",\"other\"]\n",
    "\n",
    "loadmodel = tf.keras.models.load_model(\"deeplearn/model_dl.h5\")\n",
    "\n",
    "predict = loadmodel.predict(img_test)\n"
   ]
  },
  {
   "cell_type": "code",
   "execution_count": null,
   "metadata": {},
   "outputs": [],
   "source": []
  }
 ]
}