{
 "cells": [
  {
   "cell_type": "code",
   "execution_count": null,
   "metadata": {},
   "outputs": [],
   "source": [
    "import numpy as np # linear algebra\n",
    "from sklearn.metrics import accuracy_score, f1_score, precision_score, confusion_matrix, roc_curve, auc, plot_roc_curve\n",
    "from sklearn.model_selection import StratifiedKFold\n",
    "from PIL import Image\n",
    "import random"
   ]
  },
  {
   "cell_type": "code",
   "execution_count": null,
   "metadata": {},
   "outputs": [],
   "source": [
    "import tensorflow as tf\n",
    "from tensorflow import keras\n",
    "from tensorflow.keras import layers\n",
    "from tensorflow.keras.models import Sequential\n",
    "from tensorflow.keras.layers import Dense\n",
    "from keras.preprocessing.image import ImageDataGenerator"
   ]
  },
  {
   "cell_type": "code",
   "execution_count": null,
   "metadata": {},
   "outputs": [],
   "source": [
    "from tensorflow.keras.layers import Dropout\n",
    "from tensorflow.keras.layers import Flatten\n",
    "from tensorflow.keras.layers import Conv2D\n",
    "from tensorflow.keras.layers import MaxPooling2D\n",
    "from tensorflow.compat.v1 import ConfigProto\n",
    "from tensorflow.compat.v1 import InteractiveSession\n",
    "import warnings\n",
    "import os\n",
    "import shutil"
   ]
  },
  {
   "cell_type": "code",
   "execution_count": null,
   "metadata": {},
   "outputs": [],
   "source": [
    "from PIL import ImageFile\n",
    "warnings.simplefilter('error', Image.DecompressionBombWarning)\n",
    "ImageFile.LOAD_TRUNCATED_IMAGES = True\n",
    "from PIL import Image\n",
    "Image.MAX_IMAGE_PIXELS = 1000000000"
   ]
  },
  {
   "cell_type": "code",
   "execution_count": null,
   "metadata": {},
   "outputs": [],
   "source": [
    "config = ConfigProto()\n",
    "config.gpu_options.allow_growth = True\n",
    "session = InteractiveSession(config=config)"
   ]
  },
  {
   "cell_type": "code",
   "execution_count": null,
   "metadata": {},
   "outputs": [],
   "source": [
    "datasetFolderName='dataset'\n",
    "MODEL_FILENAME=\"model_dl.h5\"\n",
    "sourceFiles=[]\n",
    "classLabels=['glaucoma', 'normal', 'other']"
   ]
  },
  {
   "cell_type": "code",
   "execution_count": null,
   "metadata": {},
   "outputs": [],
   "source": [
    "def transferBetweenFolders(source, dest, splitRate):   \n",
    "    global sourceFiles\n",
    "    sourceFiles=os.listdir(source)\n",
    "    if(len(sourceFiles)!=0):\n",
    "        transferFileNumbers=int(len(sourceFiles)*splitRate)\n",
    "        transferIndex=random.sample(range(0, len(sourceFiles)), transferFileNumbers)\n",
    "        for eachIndex in transferIndex:\n",
    "            shutil.move(source+str(sourceFiles[eachIndex]), dest+str(sourceFiles[eachIndex]))\n",
    "    else:\n",
    "        print(\"No file moved. Source empty!\")"
   ]
  },
  {
   "cell_type": "code",
   "execution_count": null,
   "metadata": {},
   "outputs": [],
   "source": [
    "def transferAllClassBetweenFolders(source, dest, splitRate):\n",
    "    for label in classLabels:\n",
    "        transferBetweenFolders(datasetFolderName+'/'+source+'/'+label+'/', \n",
    "                               datasetFolderName+'/'+dest+'/'+label+'/', \n",
    "                               splitRate)"
   ]
  },
  {
   "cell_type": "code",
   "execution_count": null,
   "metadata": {},
   "outputs": [],
   "source": [
    "# First, check if test folder is empty or not, if not transfer all existing files to train\n",
    "transferAllClassBetweenFolders('test', 'train', 1.0)\n",
    "# Now, split some part of train data into the test folders.\n",
    "transferAllClassBetweenFolders('train', 'test', 0.20)"
   ]
  },
  {
   "cell_type": "code",
   "execution_count": null,
   "metadata": {},
   "outputs": [],
   "source": [
    "X=[]\n",
    "Y=[]\n",
    "def prepareNameWithLabels(folderName):\n",
    "    sourceFiles=os.listdir(datasetFolderName+'/train/'+folderName+'/')\n",
    "    for val in sourceFiles:\n",
    "        X.append(val)\n",
    "        if(folderName==classLabels[0]):\n",
    "            Y.append(0)\n",
    "        elif(folderName==classLabels[1]):\n",
    "            Y.append(1)\n",
    "        else:\n",
    "            Y.append(2)"
   ]
  },
  {
   "cell_type": "code",
   "execution_count": null,
   "metadata": {},
   "outputs": [],
   "source": [
    "prepareNameWithLabels(classLabels[0])\n",
    "prepareNameWithLabels(classLabels[1])\n",
    "prepareNameWithLabels(classLabels[2])"
   ]
  },
  {
   "cell_type": "code",
   "execution_count": null,
   "metadata": {},
   "outputs": [],
   "source": [
    "X=np.asarray(X)\n",
    "Y=np.asarray(Y)"
   ]
  },
  {
   "cell_type": "code",
   "execution_count": null,
   "metadata": {},
   "outputs": [],
   "source": [
    "#model\n",
    "batch_size = 5\n",
    "epoch=5\n",
    "activationFunction='relu'\n",
    "def Model():\n",
    "    model = Sequential()\n",
    "    model.add(Conv2D(64, (3, 3), padding='same', activation=activationFunction, input_shape=(img_rows, img_cols, 3)))\n",
    "    model.add(Conv2D(64, (3, 3), activation=activationFunction))\n",
    "    model.add(MaxPooling2D(pool_size=(2, 2)))\n",
    "    model.add(Dropout(0.25))\n",
    " \n",
    "    model.add(Conv2D(32, (3, 3), padding='same', activation=activationFunction))\n",
    "    model.add(Conv2D(32, (3, 3), activation=activationFunction))\n",
    "    model.add(MaxPooling2D(pool_size=(2, 2)))\n",
    "    model.add(Dropout(0.25))\n",
    " \n",
    "    model.add(Conv2D(16, (3, 3), padding='same', activation=activationFunction))\n",
    "    model.add(Conv2D(16, (3, 3), activation=activationFunction))\n",
    "    model.add(MaxPooling2D(pool_size=(2, 2)))\n",
    "    model.add(Dropout(0.25))\n",
    " \n",
    "    model.add(Flatten())\n",
    "    model.add(Dense(64, activation=activationFunction)) # we can drop \n",
    "    model.add(Dropout(0.1))                  # this layers\n",
    "    model.add(Dense(32, activation=activationFunction))\n",
    "    model.add(Dropout(0.1))\n",
    "    model.add(Dense(16, activation=activationFunction))\n",
    "    model.add(Dropout(0.1))\n",
    "    model.add(Dense(3, activation='softmax')) \n",
    "    \n",
    "    model.compile(optimizer='adam', loss='binary_crossentropy', metrics=['accuracy'])\n",
    "    \n",
    "    return model"
   ]
  },
  {
   "cell_type": "code",
   "execution_count": null,
   "metadata": {},
   "outputs": [],
   "source": [
    "def my_metrics(y_true, y_pred):\n",
    "    accuracy=accuracy_score(y_true, y_pred)\n",
    "    precision=precision_score(y_true, y_pred,average='weighted')\n",
    "    f1Score=f1_score(y_true, y_pred, average='weighted')\n",
    "    cm=confusion_matrix(y_true, y_pred)\n",
    "    sensGlacoma = cm[0][0]/(cm[0][0]+cm[0][1]+cm[0][2])\n",
    "    specGlaucoma = (cm[1][1]+cm[1][2]+cm[2][1]+cm[2][2])/(cm[1][1]+cm[1][2]+cm[2][1]+cm[2][2]+cm[1][0]+cm[2][0])\n",
    "    sensNormal = cm[1][1]/(cm[1][0]+cm[1][1]+cm[1][2])\n",
    "    specNormal = (cm[0][0]+cm[0][2]+cm[2][0]+cm[2][2])/(cm[0][1]+cm[2][1]+cm[0][0]+cm[0][2]+cm[2][0]+cm[2][2])\n",
    "    sensOther = cm[2][2]/(cm[0][2]+cm[1][2]+cm[2][2])\n",
    "    specOther = (cm[0][0]+cm[0][1]+cm[1][0]+cm[1][1])/(cm[0][2]+cm[1][2]+cm[0][0]+cm[0][1]+cm[1][0]+cm[1][1])\n",
    "    \n",
    "    print(\"Accuracy  : {}\".format(accuracy))\n",
    "    print(\"Precision : {}\".format(precision))\n",
    "    print(\"f1Score : {}\".format(f1Score))\n",
    "    print(\"sensGlacoma : {}\".format(sensGlacoma))\n",
    "    print(\"specGlaucoma : {}\".format(specGlaucoma))\n",
    "    print(\"sensNormal : {}\".format(sensNormal))\n",
    "    print(\"specNormal : {}\".format(specNormal))\n",
    "    print(\"sensOther : {}\".format(sensOther))\n",
    "    print(\"specOther : {}\".format(specOther))\n",
    "    \n",
    "    print(cm)\n",
    "    return accuracy, precision, f1Score, sensGlacoma, specGlaucoma, sensNormal, specNormal, sensOther, specOther"
   ]
  },
  {
   "cell_type": "code",
   "execution_count": null,
   "metadata": {},
   "outputs": [],
   "source": [
    "img_rows, img_cols =  224, 224\n",
    "\n",
    "train_path=datasetFolderName+'/train/'\n",
    "validation_path=datasetFolderName+'/validation/'\n",
    "test_path=datasetFolderName+'/test/'\n",
    "model=Model()"
   ]
  },
  {
   "cell_type": "code",
   "execution_count": null,
   "metadata": {},
   "outputs": [],
   "source": [
    "skf = StratifiedKFold(n_splits=5, shuffle=True)\n",
    "skf.get_n_splits(X, Y)\n",
    "foldNumber=0\n",
    "for train_index, val_index in skf.split(X, Y):\n",
    "    transferAllClassBetweenFolders('validation', 'train', 1.0)\n",
    "    foldNumber+=1\n",
    "    print(\"Results for fold\",foldNumber)\n",
    "    X_train, X_val = X[train_index], X[val_index]\n",
    "    Y_train, Y_val = Y[train_index], Y[val_index]\n",
    "    for eachIndex in range(len(X_val)):\n",
    "        classLabel=''\n",
    "        if(Y_val[eachIndex]==0):\n",
    "            classLabel=classLabels[0]\n",
    "        elif(Y_val[eachIndex]==1):\n",
    "            classLabel=classLabels[1]\n",
    "        else:\n",
    "            classLabel=classLabels[2]   \n",
    "        #Then, copy the validation images to the validation folder\n",
    "        shutil.move(datasetFolderName+'/train/'+classLabel+'/'+X_val[eachIndex], \n",
    "                    datasetFolderName+'/validation/'+classLabel+'/'+X_val[eachIndex])\n",
    "    train_datagen = ImageDataGenerator(\n",
    "                rescale=1./255,\n",
    "        \t\tzoom_range=0.20,\n",
    "            \tfill_mode=\"nearest\"\n",
    "                )\n",
    "    validation_datagen = ImageDataGenerator(rescale=1./255)\n",
    "    test_datagen = ImageDataGenerator(rescale=1./255)\n",
    "    \n",
    "    #Start ImageClassification Model\n",
    "    train_generator = train_datagen.flow_from_directory(\n",
    "        train_path,\n",
    "        target_size=(img_rows, img_cols),\n",
    "        batch_size=batch_size,\n",
    "        class_mode='categorical',\n",
    "        subset='training')\n",
    "\n",
    "    validation_generator = validation_datagen.flow_from_directory(\n",
    "            validation_path,\n",
    "            target_size=(img_rows, img_cols),\n",
    "            batch_size=batch_size,\n",
    "            class_mode=None,  # only data, no labels\n",
    "            shuffle=False)   \n",
    "    \n",
    "    # fit model\n",
    "    history=model.fit(train_generator, \n",
    "                        epochs=epoch)\n",
    "    \n",
    "    predictions = model.predict(validation_generator, verbose=1)\n",
    "    yPredictions = np.argmax(predictions, axis=1)\n",
    "    true_classes = validation_generator.classes\n",
    "    # evaluate validation performance\n",
    "    print(\"***Performance on Validation data***\")    \n",
    "    valAcc, valPrec, valFScore, valsensGlaucoma, valspecGlaucoma, valsensNormal, valspecNormal, valsensOther, valspecOther = my_metrics(true_classes, yPredictions)"
   ]
  },
  {
   "cell_type": "code",
   "execution_count": null,
   "metadata": {},
   "outputs": [],
   "source": [
    "print(\"==============TEST RESULTS============\")\n",
    "test_generator = test_datagen.flow_from_directory(\n",
    "        test_path,\n",
    "        target_size=(img_rows, img_cols),\n",
    "        batch_size=batch_size,\n",
    "        class_mode=None,\n",
    "        shuffle=False) \n",
    "predictions = model.predict(test_generator, verbose=1)\n",
    "yPredictions = np.argmax(predictions, axis=1)\n",
    "true_classes = test_generator.classes\n",
    "\n",
    "testAcc,testPrec, testFScore, valsensGlaucoma, valspecGlaucoma, valsensNormal, valspecNormal, valsensOther, valspecOther = my_metrics(true_classes, yPredictions)\n",
    "model.save(MODEL_FILENAME)"
   ]
  },
  {
   "cell_type": "code",
   "execution_count": null,
   "metadata": {},
   "outputs": [],
   "source": []
  }
 ],
 "metadata": {
  "kernelspec": {
   "display_name": "Python 3",
   "language": "python",
   "name": "python3"
  },
  "language_info": {
   "codemirror_mode": {
    "name": "ipython",
    "version": 3
   },
   "file_extension": ".py",
   "mimetype": "text/x-python",
   "name": "python",
   "nbconvert_exporter": "python",
   "pygments_lexer": "ipython3",
   "version": "3.8.5"
  }
 },
 "nbformat": 4,
 "nbformat_minor": 4
}