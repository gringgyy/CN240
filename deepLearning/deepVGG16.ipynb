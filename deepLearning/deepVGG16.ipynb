{
 "cells": [
  {
   "cell_type": "code",
   "execution_count": null,
   "metadata": {},
   "outputs": [],
   "source": [
    "import tensorflow as tf\n",
    "import numpy as np\n",
    "from tensorflow.keras.preprocessing import image\n",
    "from sklearn.metrics import accuracy_score, f1_score, precision_score, confusion_matrix, roc_curve, auc, plot_roc_curve"
   ]
  },
  {
   "cell_type": "code",
   "execution_count": null,
   "metadata": {},
   "outputs": [],
   "source": [
    "path_train = \"dataset/train\"\n",
    "\n",
    "img_train = tf.keras.preprocessing.image_dataset_from_directory(\n",
    "    path_train,\n",
    "    validation_split=0.2,\n",
    "    subset = \"training\",\n",
    "    seed = 125,\n",
    "    image_size = (224,224),\n",
    "    batch_size = 32\n",
    ")\n",
    "\n",
    "img_validation = tf.keras.preprocessing.image_dataset_from_directory(\n",
    "    path_train,\n",
    "    validation_split=0.2,\n",
    "    subset = \"validation\",\n",
    "    seed = 125,\n",
    "    image_size = (224,224),\n",
    "    batch_size = 32\n",
    ")\n"
   ]
  },
  {
   "cell_type": "code",
   "execution_count": null,
   "metadata": {},
   "outputs": [],
   "source": [
    "VGG16_MODEL=tf.keras.applications.VGG16(input_shape=(224,224,3),\n",
    "                                               include_top=False,\n",
    "                                               weights='imagenet')\n",
    "VGG16_MODEL.trainable=False\n",
    "global_average_layer = tf.keras.layers.GlobalAveragePooling2D()\n",
    "prediction_layer = tf.keras.layers.Dense(3,activation='softmax')"
   ]
  },
  {
   "cell_type": "code",
   "execution_count": null,
   "metadata": {},
   "outputs": [],
   "source": [
    "model = tf.keras.Sequential([\n",
    "  VGG16_MODEL,\n",
    "  global_average_layer,\n",
    "  prediction_layer\n",
    "])\n",
    "\n",
    "model.compile(optimizer=\"adam\", \n",
    "              loss=tf.keras.losses.sparse_categorical_crossentropy,\n",
    "              metrics=[\"accuracy\"])"
   ]
  },
  {
   "cell_type": "code",
   "execution_count": null,
   "metadata": {},
   "outputs": [],
   "source": [
    "model.summary()"
   ]
  },
  {
   "cell_type": "code",
   "execution_count": null,
   "metadata": {},
   "outputs": [],
   "source": [
    "history = model.fit(img_train,\n",
    "                    epochs=18, \n",
    "                    steps_per_epoch=30,\n",
    "                    validation_steps=2,\n",
    "                    validation_data=img_validation)\n",
    "model.save(\"deeplearningVGG16.h5\")"
   ]
  },
  {
   "cell_type": "code",
   "execution_count": null,
   "metadata": {},
   "outputs": [],
   "source": [
    "#import Test img\n",
    "\n",
    "path_test = \"dataset/test\"\n",
    "\n",
    "img_test = tf.keras.preprocessing.image_dataset_from_directory(\n",
    "    path_test,\n",
    "    image_size = (224,224)\n",
    ")\n",
    "\n",
    "\n",
    "label = [\"glaucoma\",\"normal\",\"other\"]\n",
    "\n",
    "loadmodel = tf.keras.models.load_model(\"deeplearningVGG16.h5\")\n",
    "\n",
    "predict = loadmodel.predict(img_test)\n",
    "prediction = np.argmax(predict)\n"
   ]
  },
  {
   "cell_type": "code",
   "execution_count": null,
   "metadata": {},
   "outputs": [],
   "source": [
    "#test number of image predict in each class\n",
    "i = 0\n",
    "glau = 0\n",
    "norm = 0\n",
    "oth = 0\n",
    "for i in predict:\n",
    "    index = np.argmax(i)\n",
    "    if index == 0:\n",
    "        glau+=1\n",
    "    elif index == 1:\n",
    "        norm+=1\n",
    "    elif index==2 :\n",
    "        oth+=1\n",
    "    \n",
    "print(glau)\n",
    "print(norm)\n",
    "print(oth)"
   ]
  },
  {
   "cell_type": "code",
   "execution_count": null,
   "metadata": {},
   "outputs": [],
   "source": [
    "# change file type to jpeg if decoded error\n",
    "\n",
    "#import imghdr\n",
    "#import cv2\n",
    "#import os\n",
    "#import glob\n",
    "#\n",
    "#\n",
    "#for file in glob.glob('dataset/test/other/*.jpg'):\n",
    "#    image = cv2.imread(file)\n",
    "#    file_type = imghdr.what(file)\n",
    "#    if file_type != 'jpeg':\n",
    "#        print(file + \" - invalid - \" + str(file_type))\n",
    "#        cv2.imwrite(file, image)\n",
    "#    print(\"finish jpg\",image)"
   ]
  },
  {
   "cell_type": "code",
   "execution_count": null,
   "metadata": {},
   "outputs": [],
   "source": []
  }
 ],
 "metadata": {
  "kernelspec": {
   "display_name": "Python 3",
   "language": "python",
   "name": "python3"
  },
  "language_info": {
   "codemirror_mode": {
    "name": "ipython",
    "version": 3
   },
   "file_extension": ".py",
   "mimetype": "text/x-python",
   "name": "python",
   "nbconvert_exporter": "python",
   "pygments_lexer": "ipython3",
   "version": "3.8.5"
  }
 },
 "nbformat": 4,
 "nbformat_minor": 4
}