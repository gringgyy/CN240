{
 "cells": [
  {
   "cell_type": "code",
   "execution_count": 78,
   "id": "9b30d771-22f4-46f7-82b8-27f4c985130f",
   "metadata": {},
   "outputs": [],
   "source": [
    "import tensorflow as tf\n",
    "from keras.models import load_model\n",
    "from keras.preprocessing.image import ImageDataGenerator\n",
    "import matplotlib.pyplot as plt\n",
    "import numpy as np\n",
    "from sklearn import metrics\n",
    "from sklearn.metrics import roc_curve, auc, confusion_matrix"
   ]
  },
  {
   "cell_type": "code",
   "execution_count": 10,
   "id": "90edd0e5-247b-4ee1-9666-12a17f09a803",
   "metadata": {},
   "outputs": [
    {
     "name": "stdout",
     "output_type": "stream",
     "text": [
      "Found 4470 images belonging to 3 classes.\n"
     ]
    }
   ],
   "source": [
    "path_test = \"dataset/test\"\n",
    "model = load_model('deeplearningVGG16.h5')\n",
    "\n",
    "img_test = ImageDataGenerator().flow_from_directory(\n",
    "    path_test,\n",
    "    target_size = (224,224),\n",
    "    shuffle = False\n",
    ")\n"
   ]
  },
  {
   "cell_type": "code",
   "execution_count": 52,
   "id": "914d2c63-b2ec-4efd-b733-380199f55bdc",
   "metadata": {},
   "outputs": [],
   "source": [
    "result = img_test.classes"
   ]
  },
  {
   "cell_type": "code",
   "execution_count": 14,
   "id": "dedb903a-f283-425e-b480-b69f38e73770",
   "metadata": {},
   "outputs": [],
   "source": [
    "predict = model.predict(img_test)"
   ]
  },
  {
   "cell_type": "code",
   "execution_count": 44,
   "id": "4576d272-f812-41e9-9d1e-8f34470ad4fd",
   "metadata": {},
   "outputs": [
    {
     "name": "stdout",
     "output_type": "stream",
     "text": [
      "[0 0 0 ... 2 2 2]\n",
      "[0 0 0 ... 2 2 2]\n"
     ]
    }
   ],
   "source": [
    "print(result)\n",
    "print(predictResult)"
   ]
  },
  {
   "cell_type": "code",
   "execution_count": 17,
   "id": "75f80464-8993-4b5b-acf3-b3493bd66b66",
   "metadata": {},
   "outputs": [
    {
     "name": "stdout",
     "output_type": "stream",
     "text": [
      "[[9.1372603e-01 4.3504670e-02 4.2769294e-02]\n",
      " [7.9412228e-01 1.5696746e-01 4.8910245e-02]\n",
      " [8.7193775e-01 5.6883637e-02 7.1178600e-02]\n",
      " ...\n",
      " [5.9410895e-04 2.7918105e-04 9.9912673e-01]\n",
      " [2.0839238e-01 7.4948139e-02 7.1665949e-01]\n",
      " [4.7502995e-02 2.2432240e-02 9.3006480e-01]]\n"
     ]
    }
   ],
   "source": [
    "print(predict)"
   ]
  },
  {
   "cell_type": "code",
   "execution_count": 76,
   "id": "3c9299bd-7165-4f85-a7f6-4e367e81e306",
   "metadata": {},
   "outputs": [
    {
     "data": {
      "image/png": "[encoded data removed]",
      "text/plain": [
       "<Figure size 432x288 with 1 Axes>"
      ]
     },
     "metadata": {
      "needs_background": "light"
     },
     "output_type": "display_data"
    }
   ],
   "source": [
    "fprG , tprG , thres = metrics.roc_curve(result,predict[:,0],pos_label=0)\n",
    "fprN , tprN , thres = metrics.roc_curve(result,predict[:,1],pos_label=1)\n",
    "fprO , tprO , thres = metrics.roc_curve(result,predict[:,2],pos_label=2)\n",
    "\n",
    "roc_aucG = auc(fprG, tprG)\n",
    "roc_aucN = auc(fprN, tprN)\n",
    "roc_aucO = auc(fprO, tprO)\n",
    "\n",
    "lw = 2\n",
    "plt.plot(fprG,tprG,lw=2,label='ROC curve Glaucoma (area = %.2f)'%roc_aucG)\n",
    "plt.plot(fprN,tprN,lw=lw,label='ROC curve Normal (area = %.2f)'%roc_aucN)\n",
    "plt.plot(fprO,tprO,lw=2,label='ROC curve Other (area = %.2f)'%roc_aucO)\n",
    "plt.plot([0,1],[0,1],color ='navy',lw=lw,linestyle='--')\n",
    "plt.xlim([0.0,1.0])\n",
    "plt.ylim([0.0,1.1])\n",
    "plt.xlabel('False Positive Rate')\n",
    "plt.ylabel('True Positive Rate')\n",
    "plt.title('ROC')\n",
    "plt.legend(loc=\"lower right\")\n",
    "plt.show()"
   ]
  },
  {
   "cell_type": "code",
   "execution_count": 50,
   "id": "de05881c-75c8-4fa3-ac89-22fc25539845",
   "metadata": {},
   "outputs": [
    {
     "name": "stdout",
     "output_type": "stream",
     "text": [
      "              precision    recall  f1-score   support\n",
      "\n",
      "           0    0.75522   0.67079   0.71051      2102\n",
      "           1    0.60780   0.67697   0.64052      1520\n",
      "           2    0.78791   0.84552   0.81570       848\n",
      "\n",
      "    accuracy                        0.70604      4470\n",
      "   macro avg    0.71698   0.73109   0.72224      4470\n",
      "weighted avg    0.71129   0.70604   0.70667      4470\n",
      "\n"
     ]
    }
   ],
   "source": [
    "predictResult = predict.argmax(axis = 1)\n",
    "\n",
    "print(metrics.classification_report(result,predictResult,digits=5))"
   ]
  },
  {
   "cell_type": "code",
   "execution_count": 84,
   "id": "bf3c4e83-4222-4fb0-99e0-0d0c3a6eddc4",
   "metadata": {},
   "outputs": [
    {
     "name": "stdout",
     "output_type": "stream",
     "text": [
      "[[1410  579  113]\n",
      " [ 411 1029   80]\n",
      " [  46   85  717]]\n"
     ]
    }
   ],
   "source": [
    "print(confusion_matrix(result, predictResult))"
   ]
  },
  {
   "cell_type": "code",
   "execution_count": null,
   "id": "d46f9911-8ac4-4a02-87c1-5e44ba09b699",
   "metadata": {},
   "outputs": [],
   "source": []
  }
 ],
 "metadata": {
  "kernelspec": {
   "display_name": "Python 3",
   "language": "python",
   "name": "python3"
  },
  "language_info": {
   "codemirror_mode": {
    "name": "ipython",
    "version": 3
   },
   "file_extension": ".py",
   "mimetype": "text/x-python",
   "name": "python",
   "nbconvert_exporter": "python",
   "pygments_lexer": "ipython3",
   "version": "3.8.5"
  }
 },
 "nbformat": 4,
 "nbformat_minor": 5
}
