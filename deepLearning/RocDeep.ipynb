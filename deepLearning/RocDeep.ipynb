{
 "cells": [
  {
   "cell_type": "code",
   "execution_count": null,
   "id": "9b30d771-22f4-46f7-82b8-27f4c985130f",
   "metadata": {},
   "outputs": [],
   "source": [
    "import tensorflow as tf\n",
    "from keras.models import load_model\n",
    "from keras.preprocessing.image import ImageDataGenerator\n",
    "import matplotlib.pyplot as plt\n",
    "import numpy as np\n",
    "from sklearn import metrics\n",
    "from sklearn.metrics import roc_curve, auc, confusion_matrix"
   ]
  },
  {
   "cell_type": "code",
   "execution_count": null,
   "id": "90edd0e5-247b-4ee1-9666-12a17f09a803",
   "metadata": {},
   "outputs": [],
   "source": [
    "path_test = \"dataset/test\"\n",
    "model = load_model('deeplearningVGG16.h5')\n",
    "\n",
    "img_test = ImageDataGenerator().flow_from_directory(\n",
    "    path_test,\n",
    "    target_size = (224,224),\n",
    "    shuffle = False\n",
    ")\n"
   ]
  },
  {
   "cell_type": "code",
   "execution_count": null,
   "id": "914d2c63-b2ec-4efd-b733-380199f55bdc",
   "metadata": {},
   "outputs": [],
   "source": [
    "result = img_test.classes"
   ]
  },
  {
   "cell_type": "code",
   "execution_count": null,
   "id": "dedb903a-f283-425e-b480-b69f38e73770",
   "metadata": {},
   "outputs": [],
   "source": [
    "predict = model.predict(img_test)"
   ]
  },
  {
   "cell_type": "code",
   "execution_count": null,
   "id": "4576d272-f812-41e9-9d1e-8f34470ad4fd",
   "metadata": {},
   "outputs": [],
   "source": [
    "print(result)"
   ]
  },
  {
   "cell_type": "code",
   "execution_count": null,
   "id": "75f80464-8993-4b5b-acf3-b3493bd66b66",
   "metadata": {},
   "outputs": [],
   "source": [
    "print(predict)"
   ]
  },
  {
   "cell_type": "code",
   "execution_count": null,
   "id": "3c9299bd-7165-4f85-a7f6-4e367e81e306",
   "metadata": {},
   "outputs": [],
   "source": [
    "fprG , tprG , thres = metrics.roc_curve(result,predict[:,0],pos_label=0)\n",
    "fprN , tprN , thres = metrics.roc_curve(result,predict[:,1],pos_label=1)\n",
    "fprO , tprO , thres = metrics.roc_curve(result,predict[:,2],pos_label=2)\n",
    "\n",
    "roc_aucG = auc(fprG, tprG)\n",
    "roc_aucN = auc(fprN, tprN)\n",
    "roc_aucO = auc(fprO, tprO)\n",
    "\n",
    "lw = 2\n",
    "plt.plot(fprG,tprG,lw=2,label='ROC curve Glaucoma (area = %.2f)'%roc_aucG)\n",
    "plt.plot(fprN,tprN,lw=lw,label='ROC curve Normal (area = %.2f)'%roc_aucN)\n",
    "plt.plot(fprO,tprO,lw=2,label='ROC curve Other (area = %.2f)'%roc_aucO)\n",
    "plt.plot([0,1],[0,1],color ='navy',lw=lw,linestyle='--')\n",
    "plt.xlim([0.0,1.0])\n",
    "plt.ylim([0.0,1.1])\n",
    "plt.xlabel('False Positive Rate')\n",
    "plt.ylabel('True Positive Rate')\n",
    "plt.title('ROC')\n",
    "plt.legend(loc=\"lower right\")\n",
    "plt.show()"
   ]
  },
  {
   "cell_type": "code",
   "execution_count": null,
   "id": "de05881c-75c8-4fa3-ac89-22fc25539845",
   "metadata": {},
   "outputs": [],
   "source": [
    "predictResult = predict.argmax(axis = 1)\n",
    "\n",
    "print(metrics.classification_report(result,predictResult,digits=5))"
   ]
  },
  {
   "cell_type": "code",
   "execution_count": null,
   "id": "bf3c4e83-4222-4fb0-99e0-0d0c3a6eddc4",
   "metadata": {},
   "outputs": [],
   "source": [
    "cf_matrix = confusion_matrix(result, predictResult)\n",
    "print(cf_matrix)"
   ]
  },
  {
   "cell_type": "code",
   "execution_count": null,
   "id": "d46f9911-8ac4-4a02-87c1-5e44ba09b699",
   "metadata": {},
   "outputs": [],
   "source": [
    "conf_mat = confusion_matrix(result, predictResult)\n",
    "print(np.sum(cf_matrix))\n",
    "conf_mat_normalized = np.array([conf_mat[0] / (np.sum(cf_matrix[0])),conf_mat[1] / (np.sum(cf_matrix[1])),conf_mat[2] / (np.sum(cf_matrix[2]))])\n",
    "\n",
    "print(conf_mat_normalized)\n",
    "sns.heatmap(conf_mat_normalized,annot=True,fmt='.2%',cmap='Blues')\n",
    "plt.ylabel('True label')\n",
    "plt.xlabel('Predicted label')"
   ]
  }
 ],
 "metadata": {
  "kernelspec": {
   "display_name": "Python 3",
   "language": "python",
   "name": "python3"
  },
  "language_info": {
   "codemirror_mode": {
    "name": "ipython",
    "version": 3
   },
   "file_extension": ".py",
   "mimetype": "text/x-python",
   "name": "python",
   "nbconvert_exporter": "python",
   "pygments_lexer": "ipython3",
   "version": "3.8.5"
  }
 },
 "nbformat": 4,
 "nbformat_minor": 5
}