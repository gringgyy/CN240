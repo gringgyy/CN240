{
 "cells": [
  {
   "cell_type": "code",
   "execution_count": 4,
   "metadata": {},
   "outputs": [],
   "source": [
    "import matplotlib.pyplot as plt\n",
    "import numpy as np\n",
    "import argparse\n",
    "import cv2 as cv\n",
    "import scipy.ndimage as ndimage\n",
    "import os\n",
    "import csv\n",
    "import random\n",
    "import math\n",
    "import time\n",
    "import imutils\n",
    "from os import listdir"
   ]
  },
  {
   "cell_type": "code",
   "execution_count": 2,
   "metadata": {},
   "outputs": [],
   "source": [
    "def rotate(folder,deg):\n",
    "    count = 1792\n",
    "    for file in os.listdir(\"imgprocessing/train/\"+folder+\"/\"):\n",
    "        img = cv.imread(os.path.join(\"imgprocessing/train/\"+folder+\"/\"+file))\n",
    "        #print(img)\n",
    "        rows,cols,ch = img.shape\n",
    "    \n",
    "        M = cv.getRotationMatrix2D((cols/2,rows/2),deg,1)\n",
    "    \n",
    "        dst = cv.warpAffine(img,M,(cols,rows))\n",
    "        filename = \"otherRotate\"+str(count)\n",
    "        print(filename+\"save completed\")\n",
    "        count = count+1\n",
    "        cv.imwrite(r\"C:\\Users\\User\\DeepLearning\\dataset\\train\\other\\{}.jpg\".format(filename), dst)"
   ]
  },
  {
   "cell_type": "code",
   "execution_count": 3,
   "metadata": {},
   "outputs": [],
   "source": [
    "#rotate(\"normal\",90)"
   ]
  },
  {
   "cell_type": "code",
   "execution_count": 4,
   "metadata": {},
   "outputs": [],
   "source": [
    "def resize(folder):\n",
    "    count = 0\n",
    "    for file in os.listdir(\"dataset/train/\"+folder+\"/\"):\n",
    "        img = cv.imread(os.path.join(\"dataset/train/\"+folder+\"/\"+file))\n",
    "        resize = cv.resize(img, (224,224))\n",
    "        filename = \"normalResize\"+str(count)\n",
    "        print(filename+\"save completed\")\n",
    "        count = count+1\n",
    "        cv.imwrite(r\"C:\\Users\\User\\DeepLearning\\imgprocessing\\train\\normal\\{}.jpg\".format(filename), resize)"
   ]
  },
  {
   "cell_type": "code",
   "execution_count": 5,
   "metadata": {},
   "outputs": [],
   "source": [
    "#resize(\"normal\")"
   ]
  },
  {
   "cell_type": "code",
   "execution_count": 6,
   "metadata": {},
   "outputs": [],
   "source": [
    "def noise(folder,prob):\n",
    "    count = 0\n",
    "    for file in os.listdir(\"imgprocessing/train/\"+folder+\"/\"):\n",
    "        img = cv.imread(os.path.join(\"imgprocessing/train/\"+folder+\"/\"+file))\n",
    "        output = np.zeros(img.shape,np.uint8)\n",
    "        thres = 1 - prob\n",
    "        for i in range(img.shape[0]):\n",
    "            for j in range(img.shape[1]):\n",
    "                rdn = random.random()\n",
    "                if rdn < prob:\n",
    "                    output[i][j] = 0\n",
    "                elif rdn > thres:\n",
    "                    output[i][j] = 255\n",
    "                else:\n",
    "                    output[i][j] = img[i][j]\n",
    "        filename = \"otherNoise\"+str(count)\n",
    "        print(filename+\"save completed\")\n",
    "        count = count+1\n",
    "        cv.imwrite(r\"C:\\Users\\User\\DeepLearning\\dataset\\train\\other\\{}.jpg\".format(filename), output)"
   ]
  },
  {
   "cell_type": "code",
   "execution_count": 7,
   "metadata": {},
   "outputs": [],
   "source": [
    "#noise(\"normal\", 0.15)"
   ]
  },
  {
   "cell_type": "code",
   "execution_count": 8,
   "metadata": {},
   "outputs": [],
   "source": [
    "#rotate(\"other\",270)"
   ]
  },
  {
   "cell_type": "code",
   "execution_count": 9,
   "metadata": {},
   "outputs": [],
   "source": [
    "def clahe(folder):\n",
    "    count = 0\n",
    "    for file in os.listdir(\"imgprocessing/train/\"+folder+\"/\"):\n",
    "        img = cv.imread(os.path.join(\"imgprocessing/train/\"+folder+\"/\"+file))\n",
    "        image_bw = cv.cvtColor(img, cv.COLOR_BGR2GRAY)\n",
    "        clahe = cv.createCLAHE(clipLimit = 3)\n",
    "        final_img = clahe.apply(img)\n",
    "        filename = \"otherClaheC\"+str(count)\n",
    "        print(filename+\" save completed\")\n",
    "        count = count+1\n",
    "        cv.imwrite(r\"C:\\Users\\User\\DeepLearning\\dataset\\train\\other\\{}.jpg\".format(filename), final_img)"
   ]
  },
  {
   "cell_type": "code",
   "execution_count": 1,
   "metadata": {},
   "outputs": [],
   "source": [
    "#clahe(\"other\")"
   ]
  },
  {
   "cell_type": "code",
   "execution_count": 41,
   "metadata": {},
   "outputs": [],
   "source": [
    "def crop(folder):\n",
    "    count = 0\n",
    "    for file in os.listdir(\"imgprocessing/train/\"+folder+\"/\"):\n",
    "        img = cv.imread(os.path.join(\"imgprocessing/train/\"+folder+\"/\"+file))\n",
    "        \n",
    "        height = int(img.shape[0])\n",
    "        width = int(img.shape[1])\n",
    "        #print(height)\n",
    "        #print(width)\n",
    "        y=height/4\n",
    "        x=width/4\n",
    "        h=height/2\n",
    "        w=width/2\n",
    "        a = int(y+h)\n",
    "        b = int(x+w)\n",
    "        crop = img[int(y):a, int(x):b]\n",
    "        \n",
    "        filename = \"otherCrop\"+str(count)\n",
    "        count = count+1\n",
    "        cv.imwrite(r\"C:\\Users\\User\\DeepLearning\\dataset\\train\\other\\{}.jpg\".format(filename), crop)\n",
    "        print(filename+\" save completed\")"
   ]
  },
  {
   "cell_type": "code",
   "execution_count": 43,
   "metadata": {},
   "outputs": [],
   "source": [
    "#crop(\"other\")"
   ]
  },
  {
   "cell_type": "code",
   "execution_count": 89,
   "metadata": {},
   "outputs": [],
   "source": [
    "def darken(folder):\n",
    "    count = 0\n",
    "    for file in os.listdir(\"dataset/train/\"+folder+\"/\"):\n",
    "        img = cv.imread(os.path.join(\"dataset/train/\"+folder+\"/\"+file))\n",
    "        \n",
    "        hsv = cv.cvtColor(img,cv.COLOR_RGB2HSV)\n",
    "        hsv[...,2] = hsv[...,2]*0.6\n",
    "        darken = cv.cvtColor(hsv,cv.COLOR_HSV2RGB)\n",
    "        \n",
    "        filename = \"normalDarken\"+str(count)\n",
    "        count = count+1\n",
    "        cv.imwrite(r\"C:\\Users\\User\\DeepLearning\\dataset\\train\\normal\\{}.jpg\".format(filename), darken)\n",
    "        print(filename+\" save completed\")"
   ]
  },
  {
   "cell_type": "code",
   "execution_count": 1,
   "metadata": {},
   "outputs": [],
   "source": [
    "#darken(\"normal\")"
   ]
  },
  {
   "cell_type": "code",
   "execution_count": null,
   "metadata": {},
   "outputs": [],
   "source": []
  }
 ],
 "metadata": {
  "kernelspec": {
   "display_name": "Python 3",
   "language": "python",
   "name": "python3"
  },
  "language_info": {
   "codemirror_mode": {
    "name": "ipython",
    "version": 3
   },
   "file_extension": ".py",
   "mimetype": "text/x-python",
   "name": "python",
   "nbconvert_exporter": "python",
   "pygments_lexer": "ipython3",
   "version": "3.8.5"
  }
 },
 "nbformat": 4,
 "nbformat_minor": 4
}
